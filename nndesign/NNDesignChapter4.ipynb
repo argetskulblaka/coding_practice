{
 "cells": [
  {
   "cell_type": "markdown",
   "id": "884d8cf0",
   "metadata": {},
   "source": [
    "# Perceptron Learning Rule"
   ]
  },
  {
   "cell_type": "markdown",
   "id": "e4527d37",
   "metadata": {},
   "source": [
    "### Imports"
   ]
  },
  {
   "cell_type": "code",
   "execution_count": 2,
   "id": "33311b88",
   "metadata": {},
   "outputs": [],
   "source": [
    "# Necessities\n",
    "import numpy as np\n",
    "import matplotlib.pyplot as plt\n",
    "\n",
    "# Dataset\n",
    "import opendatasets as od"
   ]
  },
  {
   "cell_type": "markdown",
   "id": "9082ecfd",
   "metadata": {},
   "source": [
    "### Dataset explore"
   ]
  },
  {
   "cell_type": "code",
   "execution_count": 3,
   "id": "d5d2aec2",
   "metadata": {},
   "outputs": [
    {
     "name": "stdout",
     "output_type": "stream",
     "text": [
      "Please provide your Kaggle credentials to download this dataset. Learn more: http://bit.ly/kaggle-creds\n",
      "Your Kaggle username: steveworswick\n",
      "Your Kaggle Key: ········\n",
      "Downloading bank-note-authentication-uci-data.zip to ./bank-note-authentication-uci-data\n"
     ]
    },
    {
     "name": "stderr",
     "output_type": "stream",
     "text": [
      "100%|███████████████████████████████████████████████████████████████████████████| 19.2k/19.2k [00:00<00:00, 6.64MB/s]"
     ]
    },
    {
     "name": "stdout",
     "output_type": "stream",
     "text": [
      "\n"
     ]
    },
    {
     "name": "stderr",
     "output_type": "stream",
     "text": [
      "\n"
     ]
    }
   ],
   "source": [
    "# Kaggle url for UCI banknote ID dataset\n",
    "#data_url = \"https://www.kaggle.com/ritesaluja/bank-note-authentication-uci-data\"\n",
    "\n",
    "# Download\n",
    "#od.download(data_url)\n"
   ]
  },
  {
   "cell_type": "markdown",
   "id": "133c5919",
   "metadata": {},
   "source": [
    "### Network Functions"
   ]
  },
  {
   "cell_type": "code",
   "execution_count": 3,
   "id": "990565ab",
   "metadata": {},
   "outputs": [],
   "source": [
    "# Activation Functions\n",
    "\n",
    "# Hardlim\n",
    "def hardLim(X):\n",
    "    return np.where(X < 0, 0, 1)"
   ]
  },
  {
   "cell_type": "code",
   "execution_count": 10,
   "id": "4c7e5d06",
   "metadata": {},
   "outputs": [
    {
     "data": {
      "image/png": "[encoded data removed]",
      "text/plain": [
       "<Figure size 360x360 with 1 Axes>"
      ]
     },
     "metadata": {
      "needs_background": "light"
     },
     "output_type": "display_data"
    }
   ],
   "source": [
    "# visualise functions\n",
    "x = np.linspace(start=-5, stop=5, num=200)\n",
    "\n",
    "plt.figure(figsize = (5, 5))\n",
    "\n",
    "y = hardLim(x)\n",
    "\n",
    "plt.plot(x,y)\n",
    "plt.gca().set_title(\"Hard Limit activation\")\n",
    "plt.show()"
   ]
  },
  {
   "cell_type": "markdown",
   "id": "f848fc53",
   "metadata": {},
   "source": [
    "### Perceptron"
   ]
  },
  {
   "cell_type": "code",
   "execution_count": null,
   "id": "e14a39b7",
   "metadata": {},
   "outputs": [],
   "source": [
    "# Define perceptron\n",
    "class perceptron"
   ]
  }
 ],
 "metadata": {
  "kernelspec": {
   "display_name": "Python 3 (ipykernel)",
   "language": "python",
   "name": "python3"
  },
  "language_info": {
   "codemirror_mode": {
    "name": "ipython",
    "version": 3
   },
   "file_extension": ".py",
   "mimetype": "text/x-python",
   "name": "python",
   "nbconvert_exporter": "python",
   "pygments_lexer": "ipython3",
   "version": "3.8.11"
  }
 },
 "nbformat": 4,
 "nbformat_minor": 5
}
